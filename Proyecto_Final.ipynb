{
  "nbformat": 4,
  "nbformat_minor": 0,
  "metadata": {
    "colab": {
      "provenance": [],
      "include_colab_link": true
    },
    "kernelspec": {
      "name": "python3",
      "display_name": "Python 3"
    },
    "language_info": {
      "name": "python"
    }
  },
  "cells": [
    {
      "cell_type": "markdown",
      "metadata": {
        "id": "view-in-github",
        "colab_type": "text"
      },
      "source": [
        "<a href=\"https://colab.research.google.com/github/cabb1808/ProyectoSenales3/blob/main/Proyecto_Final.ipynb\" target=\"_parent\"><img src=\"https://colab.research.google.com/assets/colab-badge.svg\" alt=\"Open In Colab\"/></a>"
      ]
    },
    {
      "cell_type": "code",
      "execution_count": 2,
      "metadata": {
        "id": "Zk10FjDB0x_N"
      },
      "outputs": [],
      "source": [
        "import pandas as pd\n",
        "import numpy as np\n",
        "import matplotlib.pyplot as plt\n",
        "import seaborn as sns\n",
        "from sklearn.model_selection import train_test_split\n",
        "from sklearn.linear_model import LinearRegression\n",
        "from sklearn.decomposition import PCA\n",
        "import scipy as sp\n"
      ]
    },
    {
      "cell_type": "code",
      "source": [
        "!wget 'https://raw.githubusercontent.com/cabb1808/ProyectoSenales3/main/TRM.csv' -O 'TRM.csv'"
      ],
      "metadata": {
        "colab": {
          "base_uri": "https://localhost:8080/"
        },
        "id": "330Vlo6uIg4x",
        "outputId": "23635a53-67a4-4de3-c5fe-d966a1b050dc"
      },
      "execution_count": 3,
      "outputs": [
        {
          "output_type": "stream",
          "name": "stdout",
          "text": [
            "--2023-06-07 20:39:21--  https://raw.githubusercontent.com/cabb1808/ProyectoSenales3/main/TRM.csv\n",
            "Resolving raw.githubusercontent.com (raw.githubusercontent.com)... 185.199.108.133, 185.199.109.133, 185.199.110.133, ...\n",
            "Connecting to raw.githubusercontent.com (raw.githubusercontent.com)|185.199.108.133|:443... connected.\n",
            "HTTP request sent, awaiting response... 200 OK\n",
            "Length: 220043 (215K) [text/plain]\n",
            "Saving to: ‘TRM.csv’\n",
            "\n",
            "TRM.csv             100%[===================>] 214.89K  --.-KB/s    in 0.06s   \n",
            "\n",
            "2023-06-07 20:39:22 (3.71 MB/s) - ‘TRM.csv’ saved [220043/220043]\n",
            "\n"
          ]
        }
      ]
    },
    {
      "cell_type": "code",
      "source": [
        "#Importamos la database y ordenamos en orden cronologico ya que no lo está\n",
        "\n",
        "data = pd.read_csv('TRM.csv')\n",
        "# Convertir la columna de fechas al formato de fecha adecuado\n",
        "data['VIGENCIADESDE'] = pd.to_datetime(data['VIGENCIADESDE'], format='%d/%m/%Y')\n",
        "\n",
        "# Ordenar los datos por fecha\n",
        "data.sort_values(by='VIGENCIADESDE', inplace=True)\n",
        "datos = data[['VIGENCIADESDE', 'VALOR']]\n",
        "\n",
        "datos['VIGENCIADESDE'] = pd.to_datetime(datos['VIGENCIADESDE'])\n",
        "datos = datos.set_index('VIGENCIADESDE')\n",
        "\n",
        "d = datos.resample('D').asfreq()\n",
        "\n",
        "\n",
        "d['VALOR'].fillna(method='ffill', inplace=True)\n",
        "\n",
        "print(d)"
      ],
      "metadata": {
        "colab": {
          "base_uri": "https://localhost:8080/"
        },
        "id": "UKNWSlXbb1T0",
        "outputId": "5ccf866c-d33a-49c8-ea81-547c0f6ebb08"
      },
      "execution_count": 39,
      "outputs": [
        {
          "output_type": "stream",
          "name": "stdout",
          "text": [
            "                 VALOR\n",
            "VIGENCIADESDE         \n",
            "1991-12-02      643.42\n",
            "1991-12-03      639.22\n",
            "1991-12-04      635.70\n",
            "1991-12-05      631.51\n",
            "1991-12-06      627.16\n",
            "...                ...\n",
            "2022-07-16     4395.63\n",
            "2022-07-17     4395.63\n",
            "2022-07-18     4395.63\n",
            "2022-07-19     4315.41\n",
            "2022-07-20     4303.34\n",
            "\n",
            "[11189 rows x 1 columns]\n"
          ]
        },
        {
          "output_type": "stream",
          "name": "stderr",
          "text": [
            "<ipython-input-39-08c0800670b4>:11: SettingWithCopyWarning: \n",
            "A value is trying to be set on a copy of a slice from a DataFrame.\n",
            "Try using .loc[row_indexer,col_indexer] = value instead\n",
            "\n",
            "See the caveats in the documentation: https://pandas.pydata.org/pandas-docs/stable/user_guide/indexing.html#returning-a-view-versus-a-copy\n",
            "  datos['VIGENCIADESDE'] = pd.to_datetime(datos['VIGENCIADESDE'])\n"
          ]
        }
      ]
    },
    {
      "cell_type": "code",
      "source": [
        "#Creamos un vector temporal y separamos los datos en train y test\n",
        "\n",
        "\n",
        "xs = np.linspace(0, 1, len(d))\n",
        "x = d.index\n",
        "print(x)\n",
        "X_train, X_test, y_train, y_test = train_test_split(xs, d['VALOR'], test_size=0.05,shuffle=False)\n",
        "X_train = X_train.reshape(-1,1)\n",
        "X_test = X_test.reshape(-1,1)\n",
        "\n",
        "print(X_train.shape)\n",
        "\n",
        "plt.scatter(X_train, y_train, color='blue', label='Entrenamiento')\n",
        "plt.scatter(X_test, y_test, color='red', label='Prueba')\n",
        "plt.xlabel('')\n",
        "plt.ylabel('')\n",
        "plt.title('')\n",
        "plt.legend()\n"
      ],
      "metadata": {
        "colab": {
          "base_uri": "https://localhost:8080/",
          "height": 604
        },
        "id": "GdcEE6QPER_3",
        "outputId": "4e62b7be-7252-4e86-fb0e-15fb2eb1bdb9"
      },
      "execution_count": 52,
      "outputs": [
        {
          "output_type": "stream",
          "name": "stdout",
          "text": [
            "DatetimeIndex(['1991-12-02', '1991-12-03', '1991-12-04', '1991-12-05',\n",
            "               '1991-12-06', '1991-12-07', '1991-12-08', '1991-12-09',\n",
            "               '1991-12-10', '1991-12-11',\n",
            "               ...\n",
            "               '2022-07-11', '2022-07-12', '2022-07-13', '2022-07-14',\n",
            "               '2022-07-15', '2022-07-16', '2022-07-17', '2022-07-18',\n",
            "               '2022-07-19', '2022-07-20'],\n",
            "              dtype='datetime64[ns]', name='VIGENCIADESDE', length=11189, freq='D')\n",
            "(10629, 1)\n"
          ]
        },
        {
          "output_type": "execute_result",
          "data": {
            "text/plain": [
              "<matplotlib.legend.Legend at 0x7f7c5af108e0>"
            ]
          },
          "metadata": {},
          "execution_count": 52
        },
        {
          "output_type": "display_data",
          "data": {
            "text/plain": [
              "<Figure size 640x480 with 1 Axes>"
            ],
            "image/png": "[encoded data removed]"
          },
          "metadata": {}
        }
      ]
    },
    {
      "cell_type": "code",
      "source": [
        "def MapeoDataset(X,K):\n",
        "    X = X.flatten()\n",
        "    N = X.shape[0]\n",
        "    \n",
        "    #inicializar Phi\n",
        "    Phi = np.ones((N, K+1))\n",
        "    mu = np.linspace(0,1,K)\n",
        "    sig2 = 0.1\n",
        "\n",
        "    # Calcular matriz Phi\n",
        "    for n in range(len(X)):\n",
        "      for k in range(1, K+1):\n",
        "        Phi[n,k-1] = np.exp(-(mu[k-1] - X[n])**2/sig2) \n",
        "    return Phi"
      ],
      "metadata": {
        "id": "aFqHak8CQ6Wu"
      },
      "execution_count": 60,
      "outputs": []
    },
    {
      "cell_type": "code",
      "source": [
        "M=80\n",
        "\n",
        "lam=0.001\n",
        "PHI_train = MapeoDataset(X_train,M)\n",
        "PHI_test = MapeoDataset(X_test,M)\n",
        "print(PHI_train)\n",
        "w_Regresion = np.linalg.inv(((PHI_train.T)@PHI_train) + (lam*np.eye(M+1)))@((PHI_train.T)@y_train)\n",
        "y_pred1 = PHI_train@w_Regresion\n",
        "y_pred2= PHI_test@w_Regresion\n",
        "\n",
        "# Imprimir las predicciones\n",
        "plt.plot(X_train,y_train)\n",
        "plt.plot(X_test,y_test)\n",
        "plt.plot(X_test,y_pred2)\n"
      ],
      "metadata": {
        "id": "-iab3Nba70AH",
        "outputId": "2f756511-c0da-4654-9b1b-1764abf36487",
        "colab": {
          "base_uri": "https://localhost:8080/",
          "height": 673
        }
      },
      "execution_count": 72,
      "outputs": [
        {
          "output_type": "stream",
          "name": "stdout",
          "text": [
            "[[1.00000000e+00 9.98398976e-01 9.93611266e-01 ... 5.83858057e-05\n",
            "  4.53999298e-05 1.00000000e+00]\n",
            " [9.99999920e-01 9.98421488e-01 9.93656155e-01 ... 5.84889431e-05\n",
            "  4.54811570e-05 1.00000000e+00]\n",
            " [9.99999680e-01 9.98443842e-01 9.93700887e-01 ... 5.85922533e-05\n",
            "  4.55625222e-05 1.00000000e+00]\n",
            " ...\n",
            " [1.20895370e-04 1.53510758e-04 1.94301529e-04 ... 9.85981016e-01\n",
            "  9.75082758e-01 1.00000000e+00]\n",
            " [1.20690275e-04 1.53253799e-04 1.93980681e-04 ... 9.86047167e-01\n",
            "  9.75170243e-01 1.00000000e+00]\n",
            " [1.20485508e-04 1.52997246e-04 1.93660331e-04 ... 9.86113164e-01\n",
            "  9.75257581e-01 1.00000000e+00]]\n"
          ]
        },
        {
          "output_type": "execute_result",
          "data": {
            "text/plain": [
              "[<matplotlib.lines.Line2D at 0x7f7c59ecd330>]"
            ]
          },
          "metadata": {},
          "execution_count": 72
        },
        {
          "output_type": "display_data",
          "data": {
            "text/plain": [
              "<Figure size 640x480 with 1 Axes>"
            ],
            "image/png": "[encoded data removed]"
          },
          "metadata": {}
        }
      ]
    },
    {
      "cell_type": "code",
      "source": [
        "from sklearn.linear_model import BayesianRidge\n",
        "\n",
        "\n",
        "reg = BayesianRidge(tol=1e-6, fit_intercept=False, compute_score=True)\n",
        "n_order = 4\n",
        "# X_train = np.vander(X_train, n_order + 1, increasing=True)  #cambiar por phi\n",
        "# X_test = np.vander(X_test, n_order + 1, increasing=True)\n",
        "\n",
        "fig, axes = plt.subplots(1, 2, figsize=(8, 4))\n",
        "for i, ax in enumerate(axes):\n",
        "    # Bayesian ridge regression with different initial value pairs\n",
        "    if i == 0:\n",
        "        init = [1 / np.var(y_train), 1.0]  # Default values\n",
        "    elif i == 1:\n",
        "        init = [1.0, 1e-3]\n",
        "        reg.set_params(alpha_init=init[0], lambda_init=init[1])\n",
        "    reg.fit(PHI_train, y_train)\n",
        "\n",
        "    ymean, ystd = reg.predict(PHI_test, return_std=True)\n",
        "    y_pred_train = reg.predict(PHI_train)\n",
        "    y_pred_test = reg.predict(PHI_test)\n",
        "\n",
        "\n",
        "    ax.plot(X_test, y_test, color=\"blue\", label=\"sin($2\\\\pi x$)\")\n",
        "    ax.scatter(X_train, y_train, s=50, alpha=0.5, label=\"observation\")\n",
        "    ax.plot(X_test, ymean, color=\"red\", label=\"predict mean\")\n",
        "    ax.plot(X_test, y_samples, color=\"red\", label=\"predict mean\")\n",
        "    # ax.fill_between(X_test, ymean - ystd, ymean + ystd, color=\"pink\", alpha=0.5, label=\"predict std\")\n",
        "    ax.legend()\n",
        "    title = \"$\\\\alpha$_init$={:.2f},\\\\ \\\\lambda$_init$={}$\".format(init[0], init[1])\n",
        "    if i == 0:\n",
        "        title += \" (Default)\"\n",
        "    ax.set_title(title, fontsize=12)\n",
        "    text = \"$\\\\alpha={:.1f}$\\n$\\\\lambda={:.3f}$\\n$L={:.1f}$\".format(\n",
        "        reg.alpha_, reg.lambda_, reg.scores_[-1]\n",
        "    )\n",
        "    ax.text(0.05, -1.0, text, fontsize=12)\n",
        "\n",
        "plt.tight_layout()\n",
        "plt.show()\n",
        "\n",
        "# fig, axes = plt.subplots(1, 2, figsize=(8, 4))\n",
        "# for i, ax in enumerate(axes):\n",
        "#     # Bayesian ridge regression with different initial value pairs\n",
        "#     if i == 0:\n",
        "#         init = [1 / np.var(y_train), 1.0]  # Default values\n",
        "#     elif i == 1:\n",
        "#         init = [1.0, 1e-3]\n",
        "#         reg.set_params(alpha_init=init[0], lambda_init=init[1])\n",
        "#     reg.fit(PHI_train, y_train)\n",
        "\n",
        "#     y_pred_train = reg.predict(PHI_train)\n",
        "#     y_pred_test = reg.predict(PHI_test)\n",
        "#     # ymean, ystd = reg.predict(X_test, return_std=True)\n",
        "\n",
        "#     ax.plot(X_test, y_test, color=\"blue\", label=\"Test Data\")\n",
        "#     ax.scatter(X_train, y_train, s=50, alpha=0.5, label=\"observation\")\n",
        "#     ax.plot(X_test, y_pred_test, color=\"red\", label=\"predict mean\")\n",
        "#     #ax.fill_between(X_test, ymean - ystd, ymean + ystd, color=\"pink\", alpha=0.5, label=\"predict std\")\n",
        "#     #ax.set_ylim(-1.3, 1.3)\n",
        "#     ax.legend()\n",
        "#     title = \"$\\\\alpha$_init$={:.2f},\\\\ \\\\lambda$_init$={}$\".format(init[0], init[1])\n",
        "#     if i == 0:\n",
        "#         title += \" (Default)\"\n",
        "#     ax.set_title(title, fontsize=12)\n",
        "#     text = \"$\\\\alpha={:.1f}$\\n$\\\\lambda={:.3f}$\\n$L={:.1f}$\".format(\n",
        "#         reg.alpha_, reg.lambda_, reg.scores_[-1]\n",
        "#     )\n",
        "#     ax.text(0.05, -1.0, text, fontsize=12)\n",
        "\n",
        "# plt.tight_layout()\n",
        "# plt.show()\n"
      ],
      "metadata": {
        "colab": {
          "base_uri": "https://localhost:8080/",
          "height": 592
        },
        "id": "IHJEndy7ImR0",
        "outputId": "5cfeb78b-ee6c-45b4-8c2c-3ed0a9a71aee"
      },
      "execution_count": 68,
      "outputs": [
        {
          "output_type": "error",
          "ename": "AttributeError",
          "evalue": "ignored",
          "traceback": [
            "\u001b[0;31m---------------------------------------------------------------------------\u001b[0m",
            "\u001b[0;31mAttributeError\u001b[0m                            Traceback (most recent call last)",
            "\u001b[0;32m<ipython-input-68-76a6a5c13af3>\u001b[0m in \u001b[0;36m<cell line: 10>\u001b[0;34m()\u001b[0m\n\u001b[1;32m     20\u001b[0m     \u001b[0my_pred_train\u001b[0m \u001b[0;34m=\u001b[0m \u001b[0mreg\u001b[0m\u001b[0;34m.\u001b[0m\u001b[0mpredict\u001b[0m\u001b[0;34m(\u001b[0m\u001b[0mPHI_train\u001b[0m\u001b[0;34m)\u001b[0m\u001b[0;34m\u001b[0m\u001b[0;34m\u001b[0m\u001b[0m\n\u001b[1;32m     21\u001b[0m     \u001b[0my_pred_test\u001b[0m \u001b[0;34m=\u001b[0m \u001b[0mreg\u001b[0m\u001b[0;34m.\u001b[0m\u001b[0mpredict\u001b[0m\u001b[0;34m(\u001b[0m\u001b[0mPHI_test\u001b[0m\u001b[0;34m)\u001b[0m\u001b[0;34m\u001b[0m\u001b[0;34m\u001b[0m\u001b[0m\n\u001b[0;32m---> 22\u001b[0;31m     \u001b[0my_samples\u001b[0m \u001b[0;34m=\u001b[0m \u001b[0mreg\u001b[0m\u001b[0;34m.\u001b[0m\u001b[0msample_posterior_predictive\u001b[0m\u001b[0;34m(\u001b[0m\u001b[0mPHI_test\u001b[0m\u001b[0;34m,\u001b[0m \u001b[0msize\u001b[0m\u001b[0;34m=\u001b[0m\u001b[0;36m100\u001b[0m\u001b[0;34m)\u001b[0m\u001b[0;34m\u001b[0m\u001b[0;34m\u001b[0m\u001b[0m\n\u001b[0m\u001b[1;32m     23\u001b[0m \u001b[0;34m\u001b[0m\u001b[0m\n\u001b[1;32m     24\u001b[0m     \u001b[0max\u001b[0m\u001b[0;34m.\u001b[0m\u001b[0mplot\u001b[0m\u001b[0;34m(\u001b[0m\u001b[0mX_test\u001b[0m\u001b[0;34m,\u001b[0m \u001b[0my_test\u001b[0m\u001b[0;34m,\u001b[0m \u001b[0mcolor\u001b[0m\u001b[0;34m=\u001b[0m\u001b[0;34m\"blue\"\u001b[0m\u001b[0;34m,\u001b[0m \u001b[0mlabel\u001b[0m\u001b[0;34m=\u001b[0m\u001b[0;34m\"sin($2\\\\pi x$)\"\u001b[0m\u001b[0;34m)\u001b[0m\u001b[0;34m\u001b[0m\u001b[0;34m\u001b[0m\u001b[0m\n",
            "\u001b[0;31mAttributeError\u001b[0m: 'BayesianRidge' object has no attribute 'sample_posterior_predictive'"
          ]
        },
        {
          "output_type": "display_data",
          "data": {
            "text/plain": [
              "<Figure size 800x400 with 2 Axes>"
            ],
            "image/png": "[encoded data removed]"
          },
          "metadata": {}
        }
      ]
    },
    {
      "cell_type": "code",
      "source": [],
      "metadata": {
        "id": "6-1MLHUiltlX"
      },
      "execution_count": null,
      "outputs": []
    },
    {
      "cell_type": "code",
      "source": [
        "def expo_carac(X, K):\n",
        "    # Extraer caracteristicas exponenciales\n",
        "    # X: N x D, vector de entradas \n",
        "    # K: escalar, grado del polinomio\n",
        "    # return: N x (K+1), matriz de características Phi \n",
        "    \n",
        "    X = X.flatten()\n",
        "    N = X.shape[0]\n",
        "    \n",
        "    #inicializar Phi\n",
        "    Phi = np.ones((N, K+1))\n",
        "    mu = np.linspace(0,10,K)\n",
        "    sig2 = 0.1\n",
        "\n",
        "    # Calcular matriz Phi\n",
        "    for k in range(1, K+1):\n",
        "        Phi[:,k] = np.exp(-(mu[k-1] - X)**2/sig2) \n",
        "    return Phi\n",
        "\n",
        "def cos_carac(X, K):\n",
        "    # Extraer caracteristicas sinusoidales\n",
        "    # X: N x D, vector de entradas \n",
        "    # K: escalar, grado del polinomio\n",
        "    # return: N x (K+1), matriz de características Phi \n",
        "    \n",
        "    X = X.flatten()\n",
        "    N = X.shape[0]\n",
        "    \n",
        "    #inicializar Phi\n",
        "    Phi = np.ones((N, K+1))\n",
        "    F0= 0.1\n",
        "    F = F0 * np.linspace(1, K, K)\n",
        " \n",
        "    # Calcular matriz Phi\n",
        "    for k in range(1, K+1):\n",
        "      if k%2 ==0:\n",
        "        Phi[:,k] = np.cos(2*np.pi*F[k-1]*X) \n",
        "      else:\n",
        "        Phi[:,k] = np.sin(2*np.pi*F[k-1]*X)\n",
        "    return Phi\n",
        "def trig_carac(X, K):\n",
        "    # Extraer caracteristicas sinusoidales\n",
        "    # X: N x D, vector de entradas \n",
        "    # K: escalar, grado del polinomio\n",
        "    # return: N x (K+1), matriz de características Phi \n",
        "    \n",
        "    X = X.flatten()\n",
        "    N = X.shape[0]\n",
        "    \n",
        "    #inicializar Phi\n",
        "    Phi = np.ones((N, K+1))\n",
        "    F0= 0.1\n",
        "    F = F0 * np.linspace(1, K, K)\n",
        " \n",
        "    # Calcular matriz Phi\n",
        "    for k in range(1, K+1):\n",
        "      if k%2 ==0:\n",
        "        Phi[:,k] = np.cos(2*np.pi*F[k-1]*X) \n",
        "      else:\n",
        "        Phi[:,k] = np.sin(2*np.pi*F[k-1]*X)\n",
        "    return Phi\n",
        "\n",
        "def sin_carac(X, K):\n",
        "    # Extraer características senoidales\n",
        "    # X: N x D, vector de entradas \n",
        "    # K: escalar, grado del polinomio\n",
        "    # return: N x (K+1), matriz de características Phi \n",
        "    \n",
        "    X = X.flatten()\n",
        "    N = X.shape[0]\n",
        "    \n",
        "    # Inicializar Phi\n",
        "    Phi = np.ones((N, K+1))\n",
        "    F0 = 0.1\n",
        "    F = F0 * np.linspace(1, K, K)\n",
        " \n",
        "    # Calcular matriz Phi\n",
        "    for k in range(1, K+1):\n",
        "        Phi[:, k] = np.sin(2*np.pi*F[k-1]*X) \n",
        "    \n",
        "    return Phi\n",
        "\n",
        "\n",
        "def cos_carac(X, K):\n",
        "    # Extraer características cosenoidales\n",
        "    # X: N x D, vector de entradas \n",
        "    # K: escalar, grado del polinomio\n",
        "    # return: N x (K+1), matriz de características Phi \n",
        "    \n",
        "    X = X.flatten()\n",
        "    N = X.shape[0]\n",
        "    \n",
        "    # Inicializar Phi\n",
        "    Phi = np.ones((N, K+1))\n",
        "    F0 = 0.1\n",
        "    F = F0 * np.linspace(1, K, K)\n",
        " \n",
        "    # Calcular matriz Phi\n",
        "    for k in range(1, K+1):\n",
        "        Phi[:, k] = np.cos(2*np.pi*F[k-1]*X) \n",
        "    \n",
        "    return Phi\n",
        "\n",
        "def sigmo_carac(X, K):\n",
        "\n",
        "    X = X.flatten()\n",
        "    N = X.shape[0]\n",
        "    \n",
        "    #inicializar Phi\n",
        "    Phi = np.ones((N, K+1))\n",
        "    mu = np.linspace(0,10,K)\n",
        "    # Calcular matriz Phi\n",
        "    for k in range(1,K+1):\n",
        "      Phi[:,k] = 1/(1 + np.exp(-X + mu[k-1])) \n",
        "    return Phi\n",
        "\n",
        "def log_carac(X, K):\n",
        "    # Extraer características logarítmicas\n",
        "    # X: N x D, vector de entradas \n",
        "    # K: escalar, grado del polinomio\n",
        "    # return: N x (K+1), matriz de características Phi \n",
        "    \n",
        "    X = X.flatten()\n",
        "    N = X.shape[0]\n",
        "    \n",
        "    # Inicializar Phi\n",
        "    Phi = np.ones((N, K+1))\n",
        "    mu = np.linspace(0, 10, K)\n",
        "    sig2 = 0.1\n",
        "\n",
        "    # Calcular matriz Phi\n",
        "    for k in range(1, K+1):\n",
        "        Phi[:, k] = np.log(1 + np.abs(mu[k-1] - X) / sig2) \n",
        "        \n",
        "    return Phi\n"
      ],
      "metadata": {
        "id": "n5b4H6yBjfll"
      },
      "execution_count": null,
      "outputs": []
    },
    {
      "cell_type": "code",
      "source": [
        "def inferencia_max_vero_carac(Phi, y):\n",
        "    # máxima verosimilitud usando caracteristicas\n",
        "    # Phi: N x D, caracteristicas\n",
        "    # y: N x 1, datos de salida observados\n",
        "    # return: D x 1, vector de parametros estimados \n",
        "    \n",
        "    kappa = 1e-09 # jitter\n",
        "    D = Phi.shape[1]  \n",
        "    \n",
        "    Pt = Phi.T @ y # Phi^T*y\n",
        "    PP = Phi.T @ Phi + kappa*np.eye(D) # Phi^T*Phi + kappa*I\n",
        "    C = sp.linalg.cho_factor(PP)\n",
        "    theta_ml = sp.linalg.cho_solve(C, Pt) # inv(Phi^T*Phi)*Phi^T*y \n",
        "    return theta_ml"
      ],
      "metadata": {
        "id": "iYqwSJFOkNsB"
      },
      "execution_count": null,
      "outputs": []
    },
    {
      "cell_type": "code",
      "source": [
        "# Aplicar PCA\n",
        "pca = PCA(n_components=1)\n",
        "X_train_pca = pca.fit_transform(X_train)"
      ],
      "metadata": {
        "id": "nNoIO0gLmn7l"
      },
      "execution_count": null,
      "outputs": []
    },
    {
      "cell_type": "code",
      "source": [
        "K = 10\n",
        "\n",
        "Phi_expo = log_carac(X_train_pca, K)\n",
        "Phi_cos = cos_carac(X_train_pca, K)\n",
        "Phi_sigmo = sigmo_carac(X_train_pca, K)\n",
        "\n",
        "# inferencia usando max vero\n",
        "\n",
        "theta_expo = inferencia_max_vero_carac(Phi_expo, y_train)\n",
        "theta_cos = inferencia_max_vero_carac(Phi_cos, y_train)\n",
        "theta_sigmo = inferencia_max_vero_carac(Phi_sigmo, y_train)\n",
        "\n",
        "\n",
        "# predicción sobre todos los datos \n",
        "Phi_test_expo = log_carac(x, K) # características todos los datos\n",
        "Phi_test_cos = cos_carac(x, K) # características todos los datos\n",
        "Phi_test_sigmo = sigmo_carac(x, K) # características todos los datos\n",
        "\n",
        "y_predexpo = Phi_test_expo @ theta_expo\n",
        "y_predcos = Phi_test_cos @ theta_cos\n",
        "y_predsigmo = Phi_test_sigmo @ theta_sigmo\n",
        "\n",
        "plt.scatter(X_train, y_train, color='blue', label='Entrenamiento')\n",
        "plt.scatter(X_test, y_test, color='red', label='Prueba')\n",
        "plt.plot(x, y_predsigmo, color='green', label='Predicción')\n",
        "plt.show()\n",
        "\n",
        "plt.scatter(X_train, y_train, color='blue', label='Entrenamiento')\n",
        "plt.scatter(X_test, y_test, color='red', label='Prueba')\n",
        "plt.plot(x, y_predcos, color='green', label='Predicción')\n",
        "\n",
        "plt.show()\n",
        "\n",
        "plt.scatter(X_train, y_train, color='blue', label='Entrenamiento')\n",
        "plt.scatter(X_test, y_test, color='red', label='Prueba')\n",
        "plt.plot(x, y_predexpo, color='green', label='Predicción')\n",
        "plt.show()\n"
      ],
      "metadata": {
        "id": "hLQ3m2bPecXg"
      },
      "execution_count": null,
      "outputs": []
    },
    {
      "cell_type": "code",
      "source": [
        "# Aplicar PCA\n",
        "pca = PCA(n_components=1)\n",
        "X_train_pca = pca.fit_transform(X_train)\n",
        "\n",
        "K = 200\n",
        "\n",
        "Phi_cos = cos_carac(X_train_pca, K)\n",
        "\n",
        "# inferencia usando max vero\n",
        "\n",
        "theta_cos = inferencia_max_vero_carac(Phi_cos, y_train)\n",
        "\n",
        "\n",
        "# predicción sobre todos los datos \n",
        "Phi_test_cos = cos_carac(x, K) # características todos los datos\n",
        "\n",
        "y_pred = Phi_test_cos @ theta_cos\n",
        "\n",
        "plt.scatter(X_train, y_train, color='blue', label='Entrenamiento')\n",
        "plt.scatter(X_test, y_test, color='red', label='Prueba')\n",
        "plt.plot(x, y_pred, color='green', label='Predicción')\n",
        "plt.xlabel('Tamaño (metros cuadrados)')\n",
        "plt.ylabel('Precio (miles de dólares)')\n",
        "plt.legend()\n",
        "plt.show()\n",
        "\n"
      ],
      "metadata": {
        "id": "guOov13WlsFn"
      },
      "execution_count": null,
      "outputs": []
    },
    {
      "cell_type": "code",
      "source": [
        "pip install sktime[all_extras]"
      ],
      "metadata": {
        "id": "y-pVx2SKPLwk"
      },
      "execution_count": null,
      "outputs": []
    },
    {
      "cell_type": "code",
      "source": [
        "from sktime.utils.plotting import plot_series\n",
        "from sktime.forecasting.base import ForecastingHorizon\n",
        "from sktime.forecasting.naive import NaiveForecaster\n",
        "from sktime.performance_metrics.forecasting import MeanAbsolutePercentageError , mean_absolute_percentage_error\n",
        "\n",
        "X_train, X_test, y_train, y_test = train_test_split(x, d['VALOR'], test_size=0.05,shuffle=False)\n",
        "\n",
        "fh = ForecastingHorizon( pd.DatetimeIndex(pd.date_range(\"2021-01-07\", periods=560, freq=\"D\")), is_relative=False )\n",
        "\n",
        "mn = np.mean(y_train)\n",
        "print(mn)\n",
        "X = pd.DataFrame(index=X_train)\n",
        "forecaster1 = NaiveForecaster(strategy=\"last\", sp=1000)\n",
        "forecaster2 = NaiveForecaster(strategy=\"mean\", sp=1000)\n",
        "\n",
        "forecaster1.fit(y_train, X=X, fh=fh)\n",
        "forecaster2.fit(y_train, X=X, fh=fh)\n",
        "\n",
        "y_pred = forecaster1.predict(X=X)+forecaster2.predict(X=X)/3\n",
        "y_pred = y_pred\n",
        "\n",
        "\n",
        "plot_series(y_train[10000:], y_pred,y_test ,labels=[\"y\", \"y_pred\",\"y_test\"])\n",
        "mean_absolute_percentage_error(y_test, y_pred, symmetric=False)"
      ],
      "metadata": {
        "id": "uCHKG1RsOyfd"
      },
      "execution_count": null,
      "outputs": []
    },
    {
      "cell_type": "code",
      "source": [],
      "metadata": {
        "id": "l7oelm7Mg5LP"
      },
      "execution_count": null,
      "outputs": []
    }
  ]
}